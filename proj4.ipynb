{
 "nbformat": 4,
 "nbformat_minor": 2,
 "metadata": {
  "language_info": {
   "name": "python",
   "codemirror_mode": {
    "name": "ipython",
    "version": 3
   },
   "version": "3.7.3-final"
  },
  "orig_nbformat": 2,
  "file_extension": ".py",
  "mimetype": "text/x-python",
  "name": "python",
  "npconvert_exporter": "python",
  "pygments_lexer": "ipython3",
  "version": 3,
  "kernelspec": {
   "name": "python37364bitvenvvenv9ade0c60f94749668214b8431c8136e0",
   "display_name": "Python 3.7.3 64-bit ('.venv': venv)"
  }
 },
 "cells": [
  {
   "cell_type": "code",
   "execution_count": 1,
   "metadata": {},
   "outputs": [
    {
     "data": {
      "text/plain": "['AAAA', 'AAAC', 'AAAT']"
     },
     "execution_count": 1,
     "metadata": {},
     "output_type": "execute_result"
    }
   ],
   "source": [
    "import itertools\n",
    "\n",
    "mer_size = 4\n",
    "\n",
    "all_mers = [\"\".join(x) for x in itertools.product(\"ACTG\", repeat=mer_size) ]\n",
    "all_mers[:3]"
   ]
  },
  {
   "cell_type": "code",
   "execution_count": 2,
   "metadata": {},
   "outputs": [
    {
     "data": {
      "text/plain": "136"
     },
     "execution_count": 2,
     "metadata": {},
     "output_type": "execute_result"
    }
   ],
   "source": [
    "from Bio.Seq import reverse_complement\n",
    "\n",
    "without_complement = set([])\n",
    "for c in all_mers:\n",
    "    if c not in without_complement and reverse_complement(c) not in without_complement:\n",
    "        without_complement.add(c)\n",
    "\n",
    "\n",
    "len(without_complement)"
   ]
  },
  {
   "cell_type": "code",
   "execution_count": 3,
   "metadata": {},
   "outputs": [
    {
     "data": {
      "text/plain": "array([0. , 0. , 0. , 0. , 0. , 0. , 0. , 0. , 0. , 0. , 0. , 0. , 0. ,\n       0. , 0. , 0. , 0. , 0. , 0. , 0. , 0. , 0. , 0. , 0. , 0. , 0. ,\n       0. , 0.2, 0. , 0. , 0. , 0. , 0. , 0. , 0. , 0. , 0. , 0. , 0. ,\n       0. , 0. , 0. , 0. , 0. , 0. , 0. , 0. , 0. , 0. , 0. , 0. , 0. ,\n       0. , 0. , 0. , 0. , 0. , 0. , 0. , 0. , 0. , 0. , 0. , 0. , 0. ,\n       0. , 0. , 0. , 0. , 0. , 0. , 0. , 0. , 0. , 0. , 0. , 0. , 0. ,\n       0. , 0. , 0. , 0. , 0. , 0. , 0. , 0. , 0. , 0. , 0. , 0. , 0. ,\n       0. , 0. , 0. , 0. , 0. , 0. , 0. , 0. , 0. , 0. , 0. , 0. , 0. ,\n       0. , 0. , 0. , 0. , 0. , 0. , 0. , 0.2, 0. , 0. , 0. , 0. , 0. ,\n       0. , 0. , 0. , 0. , 0. , 0. , 0. , 0. , 0. , 0. , 0. , 0. , 0. ,\n       0. , 0. , 0. , 0. , 0. , 0. , 0. , 0. , 0. , 0. , 0. , 0. , 0. ,\n       0. , 0. , 0. , 0. , 0. , 0. , 0. , 0. , 0. , 0. , 0. , 0. , 0. ,\n       0. , 0. , 0. , 0. , 0. , 0. , 0. , 0. , 0. , 0. , 0. , 0. , 0. ,\n       0. , 0. , 0. , 0. , 0. , 0. , 0. , 0. , 0. , 0. , 0. , 0. , 0. ,\n       0. , 0. , 0. , 0. , 0. , 0. , 0. , 0. , 0. , 0. , 0. , 0. , 0. ,\n       0. , 0. , 0. , 0. , 0. , 0. , 0. , 0. , 0. , 0. , 0. , 0. , 0. ,\n       0. , 0. , 0. , 0. , 0. , 0. , 0. , 0. , 0. , 0. , 0. , 0. , 0. ,\n       0. , 0. , 0. , 0. , 0. , 0. , 0. , 0. , 0. , 0. , 0. , 0. , 0. ,\n       0. , 0. , 0. , 0. , 0. , 0. , 0. , 0. , 0. , 0. , 0. , 0. , 0. ,\n       0. , 0. , 0. , 0. , 0. , 0. , 0. , 0. , 0. ])"
     },
     "execution_count": 3,
     "metadata": {},
     "output_type": "execute_result"
    }
   ],
   "source": [
    "import numpy as np\n",
    "\n",
    "\n",
    "def count_mers(sequence):\n",
    "    mer_counts = { mer: 0 for mer in all_mers}\n",
    "    for i in range(len(sequence) - mer_size + 1):\n",
    "        mer = sequence[i: i + mer_size]\n",
    "        mer_counts[mer] += 1\n",
    "\n",
    "    return mer_counts\n",
    "\n",
    "def simplify_counts(counts):\n",
    "    simplified_counts = { mer: 0 for mer in without_complement}\n",
    "    for mer, count in counts.items():\n",
    "        if mer in without_complement:\n",
    "            simplified_counts[mer] += count\n",
    "        else:\n",
    "            simplified_counts[ reverse_complement(mer) ] += count \n",
    "    \n",
    "    return simplified_counts\n",
    "\n",
    "def get_seq_embedding(sequence):\n",
    "    counts = count_mers(sequence)\n",
    "    simplified = simplify_counts(counts)\n",
    "    embeddings = np.array([v for v in counts.values()])\n",
    "    return embeddings / len(sequence)\n",
    "\n",
    "\n",
    "get_seq_embedding(\"ACTGA\")\n",
    "get_seq_embedding(\"ACTGG\")"
   ]
  },
  {
   "cell_type": "code",
   "execution_count": 4,
   "metadata": {},
   "outputs": [
    {
     "data": {
      "text/plain": "(0, array([0.022     , 0.00533333, 0.012     , 0.018     , 0.00666667,\n        0.002     , 0.00533333, 0.002     , 0.008     , 0.00266667,\n        0.00733333, 0.00733333, 0.01666667, 0.00533333, 0.00733333,\n        0.01133333, 0.00666667, 0.004     , 0.00933333, 0.006     ,\n        0.006     , 0.00266667, 0.00066667, 0.        , 0.004     ,\n        0.00133333, 0.004     , 0.00333333, 0.002     , 0.00066667,\n        0.        , 0.00133333, 0.00666667, 0.00133333, 0.006     ,\n        0.00466667, 0.00333333, 0.00066667, 0.00333333, 0.00066667,\n        0.00266667, 0.00333333, 0.012     , 0.006     , 0.008     ,\n        0.004     , 0.004     , 0.00733333, 0.01533333, 0.00666667,\n        0.00666667, 0.00866667, 0.00733333, 0.002     , 0.004     ,\n        0.        , 0.00266667, 0.00333333, 0.00733333, 0.00933333,\n        0.01533333, 0.004     , 0.00333333, 0.004     , 0.00866667,\n        0.004     , 0.00266667, 0.00466667, 0.00933333, 0.00133333,\n        0.002     , 0.00066667, 0.004     , 0.002     , 0.00466667,\n        0.00466667, 0.006     , 0.00333333, 0.008     , 0.00333333,\n        0.002     , 0.002     , 0.00066667, 0.00466667, 0.00133333,\n        0.00066667, 0.00066667, 0.00066667, 0.        , 0.        ,\n        0.002     , 0.00266667, 0.        , 0.        , 0.        ,\n        0.00066667, 0.00066667, 0.00133333, 0.00266667, 0.00333333,\n        0.        , 0.        , 0.002     , 0.        , 0.002     ,\n        0.004     , 0.00466667, 0.002     , 0.006     , 0.00266667,\n        0.004     , 0.002     , 0.00133333, 0.00066667, 0.        ,\n        0.00066667, 0.00066667, 0.        , 0.        , 0.        ,\n        0.        , 0.        , 0.00066667, 0.        , 0.00266667,\n        0.00066667, 0.00066667, 0.        , 0.00866667, 0.00133333,\n        0.004     , 0.006     , 0.002     , 0.00266667, 0.002     ,\n        0.00066667, 0.00266667, 0.00133333, 0.00333333, 0.00466667,\n        0.00533333, 0.00066667, 0.00333333, 0.00533333, 0.00533333,\n        0.00266667, 0.00333333, 0.00466667, 0.00133333, 0.        ,\n        0.00133333, 0.        , 0.00333333, 0.00066667, 0.00333333,\n        0.00466667, 0.        , 0.        , 0.00066667, 0.00133333,\n        0.00933333, 0.00333333, 0.002     , 0.004     , 0.008     ,\n        0.00133333, 0.00466667, 0.00066667, 0.00733333, 0.00533333,\n        0.00933333, 0.01      , 0.01      , 0.00266667, 0.00733333,\n        0.00266667, 0.014     , 0.004     , 0.00933333, 0.004     ,\n        0.008     , 0.        , 0.002     , 0.        , 0.00333333,\n        0.00333333, 0.006     , 0.00733333, 0.00866667, 0.00066667,\n        0.006     , 0.00333333, 0.018     , 0.00533333, 0.00666667,\n        0.012     , 0.008     , 0.00333333, 0.00333333, 0.00066667,\n        0.00333333, 0.002     , 0.00866667, 0.00666667, 0.00933333,\n        0.004     , 0.004     , 0.00666667, 0.006     , 0.00466667,\n        0.002     , 0.00533333, 0.00066667, 0.        , 0.002     ,\n        0.        , 0.00066667, 0.        , 0.00333333, 0.004     ,\n        0.00066667, 0.        , 0.        , 0.00066667, 0.00333333,\n        0.00133333, 0.00133333, 0.00266667, 0.00466667, 0.00066667,\n        0.002     , 0.00066667, 0.00666667, 0.002     , 0.006     ,\n        0.00466667, 0.008     , 0.00066667, 0.00466667, 0.00666667,\n        0.01133333, 0.004     , 0.00466667, 0.01066667, 0.002     ,\n        0.00066667, 0.002     , 0.00133333, 0.00266667, 0.00133333,\n        0.00533333, 0.00333333, 0.004     , 0.00066667, 0.00266667,\n        0.00066667]))"
     },
     "execution_count": 4,
     "metadata": {},
     "output_type": "execute_result"
    }
   ],
   "source": [
    "def read_data(file_path):\n",
    "    with open(file_path, 'r') as f:\n",
    "        sequences = f.readlines()[1::2]\n",
    "        sequences = [sequence.upper() for sequence in sequences]\n",
    "        # remove trailing '\\n\\'\n",
    "        sequences = [sequence[:-1] for sequence in sequences]\n",
    "    return sequences\n",
    "\n",
    "def process_file(file_path):\n",
    "    sequences = read_data(file_path)\n",
    "    stats = [get_seq_embedding(s) for s in sequences]\n",
    "    return stats\n",
    "\n",
    "s1 = process_file(\"randoms1500\")\n",
    "s2 = process_file(\"vista1500\")\n",
    "X = s1 + s2\n",
    "y = [0] * len(s1) + [1] * len(s2)\n",
    "\n",
    "X = np.array(X)\n",
    "y = np.array(y)\n",
    "\n",
    "y[0], X[0]"
   ]
  },
  {
   "cell_type": "code",
   "execution_count": 5,
   "metadata": {},
   "outputs": [
    {
     "name": "stdout",
     "output_type": "stream",
     "text": "precision    recall  f1-score   support\n\n           0       0.91      0.35      0.51        60\n           1       0.82      0.99      0.89       174\n\n    accuracy                           0.82       234\n   macro avg       0.86      0.67      0.70       234\nweighted avg       0.84      0.82      0.79       234\n\n"
    }
   ],
   "source": [
    "from sklearn.ensemble import RandomForestClassifier\n",
    "from sklearn.model_selection import train_test_split\n",
    "from sklearn.metrics import classification_report\n",
    "\n",
    "X_train, X_test, y_train, y_test = train_test_split(X, y, test_size=0.1, shuffle=True)\n",
    "\n",
    "clf = RandomForestClassifier()\n",
    "clf.fit(X_train, y_train)\n",
    "\n",
    "y_pred = clf.predict(X_test)\n",
    "print(classification_report(y_test, y_pred))\n",
    "\n",
    "# train one more on full data\n",
    "clf = RandomForestClassifier()\n",
    "_ = clf.fit(X, y)"
   ]
  },
  {
   "cell_type": "code",
   "execution_count": 6,
   "metadata": {},
   "outputs": [
    {
     "data": {
      "text/plain": "'NNNNNNNNNNNNNNNNNNNNNNNNNNNNNNNNNNNNNNNNNNNNNNNNNNNNNNNNNNNNNNNNNNNNNNNNNNNNNNNNNNNNNNNNNNNNNNNNNNNNNNNNNNNNNNNNNNNNNNNNNNNNNNNNNNNNNNNNNNNNNNNNNNNNNNNNNNNNNNNNNNNNNNNNNNNNNNNNNNNNNNNNNNNNNNNNNNNNNNNNNNNNNNNNNNNNNNNNNNNNNNNNNNNNNNNNNNNNNNNNNNNNNNNNNNNNNNNNNNNNNNNNNNNNNNNNNNNNNNNNNNNNNNNNNNNNNNNNNNNNNNNNNNNNNNNNNNNNNNNNNNNNNNNNNNNNNNNNNNNNNNNNNNNNNNNNNNNNNNNNNNNNNNNNNNNNNNNNNNNNNNNNNNNNNNNNNNNNNNNNNNNNNNNNNNNNNNNNNNNNNNNNNNNNNNNNNNNNNNNNNNNNNNNNNNNNNNNNNNNNNNNNNNNNNNNNNNNNNNNNNNNNNNNNNNNNNNNNNNNNNNNNNNNNNNNNNNNNNNNNNNNNNNNNNNNNNNNNNNNNNNNNNNNNNNNNNNNNNNNNNNNNNNNNNNNNNNNNNNNNNNNNNNNNNNNNNNNNNNNNNNNNNNNNNNNNNNNNNNNNNNNNNNNNNNNNNNNNNNNNNNNNNNNNNNNNNNNNNNNNNNNNNNNNNNNNNNNNNNNNNNNNNNNNNNNNNNNNNNNNNNNNNNNNNNNNNNNNNNNNNNNNNNNNNNNNNNNNNNNNNNNNNNNNNNNNNNNNNNNNNNNNNNNNNNNNNNNNNNNNNNNNNNNNNNNNNNNNNNNNNNNNNNNNNNNNNNNNNNNNNNNNNNNNNNNNNNNNNNNNNNNNNNNNNNNNNNNNNNNNNNNNNNNNNNNNNNNNNNNNNNNNNNNNNNNNNNNNNNNNNNNNNNNNNNNNNNNNNNNNNNNNNNNNNNNNNNNNNNNNNNNNNNNNNNNNNNNNNNNNNNNNNNNNNNNNNNNNNNNNNNNNNNNNNNNNNNNNNNNNNNNNNNNNNNNNNNNNNNNNNNNNNNNNNNNNNNNNNNNNNNNNNNNNNNNNNNNNNNNNNNNNNNNNNNNNNNNNNNNNNNNNNNNNNNNNNNNNNNNNNNNNNNNNNNNNNNNNNNNNNNNNNNNNNNNNNNNNNNNNNNNNNNNNNNNNNNNNNNNNNNNNNNNNNNNNNNNNNNNNNNNNNNNNNNNNNNNNNNNNNNNNNNNNNNNNNNNNNNNNNNNNNNNNNNNNNNNNNNNNNNNNNNNNNNNNNNNNNNNNNNNNNNNNNNNNNNNNNNNNNNNNNNNNNNNNNNNNNNNNNNNNNNNNNNNNNNNNNNNNNNNNNNNNNNNNNNNNNNNNNNNNNNNNNNNNNNNNNNNNNNNNNNNNNNNNNNNNNNNNNNNNNNNNNNNNNNNNNNNNNNNNNNNNNNNNNNNNNNNNNNNNNNNNNNNNNNNNNNNNNNNNNNNNNNNNNNNNNNNNNNNNNNNNNNNNNNNNNNNNNNNNNNNNNNNNNNNNNNNN'"
     },
     "execution_count": 6,
     "metadata": {},
     "output_type": "execute_result"
    }
   ],
   "source": [
    "import numpy as np\n",
    "\n",
    "def read_chromosome(file_path):\n",
    "    with open(file_path, 'r') as f:\n",
    "        lines = f.readlines()[1:]\n",
    "        sequence = ''.join(lines)\n",
    "        return sequence.upper().replace('\\n','')\n",
    "\n",
    "def split_chromosomes(sequence, step, window_size):\n",
    "    splits = []\n",
    "    for i in range(0, len(sequence) - window_size + 1, step):\n",
    "        splits.append(sequence[i: i + window_size])\n",
    "\n",
    "    return splits\n",
    "\n",
    "chromosome = read_chromosome('chr21.fa')\n",
    "splits = split_chromosomes(chromosome, 750, 1500)\n",
    "splits[0]"
   ]
  },
  {
   "cell_type": "code",
   "execution_count": 7,
   "metadata": {},
   "outputs": [
    {
     "data": {
      "text/plain": "(array([0.01133333, 0.00333333, 0.00466667, 0.00466667, 0.00133333,\n        0.00133333, 0.002     , 0.        , 0.00666667, 0.00466667,\n        0.00333333, 0.00266667, 0.00466667, 0.00266667, 0.00333333,\n        0.00466667, 0.00333333, 0.00133333, 0.00133333, 0.00933333,\n        0.00533333, 0.00266667, 0.00333333, 0.00133333, 0.00133333,\n        0.002     , 0.00266667, 0.00333333, 0.        , 0.00066667,\n        0.00066667, 0.00266667, 0.00266667, 0.00266667, 0.002     ,\n        0.00266667, 0.00466667, 0.00266667, 0.004     , 0.        ,\n        0.00133333, 0.004     , 0.00933333, 0.00333333, 0.002     ,\n        0.002     , 0.00466667, 0.00333333, 0.00333333, 0.00333333,\n        0.00466667, 0.00533333, 0.00266667, 0.008     , 0.00666667,\n        0.        , 0.00266667, 0.00333333, 0.00666667, 0.00666667,\n        0.00666667, 0.00666667, 0.00666667, 0.006     , 0.00533333,\n        0.00066667, 0.00666667, 0.00266667, 0.00333333, 0.00666667,\n        0.00333333, 0.002     , 0.00066667, 0.002     , 0.00333333,\n        0.00533333, 0.00466667, 0.006     , 0.00666667, 0.01066667,\n        0.004     , 0.00466667, 0.00666667, 0.008     , 0.00733333,\n        0.004     , 0.00266667, 0.004     , 0.00333333, 0.006     ,\n        0.002     , 0.008     , 0.002     , 0.00466667, 0.00066667,\n        0.00066667, 0.00266667, 0.00333333, 0.        , 0.00133333,\n        0.00466667, 0.00733333, 0.00466667, 0.00266667, 0.00133333,\n        0.002     , 0.00333333, 0.00533333, 0.004     , 0.00666667,\n        0.00933333, 0.00733333, 0.00066667, 0.        , 0.        ,\n        0.00266667, 0.00066667, 0.006     , 0.        , 0.00133333,\n        0.        , 0.00066667, 0.00066667, 0.00333333, 0.00133333,\n        0.002     , 0.00133333, 0.002     , 0.00333333, 0.        ,\n        0.00333333, 0.004     , 0.00733333, 0.00133333, 0.002     ,\n        0.        , 0.002     , 0.00066667, 0.00733333, 0.00066667,\n        0.00266667, 0.00333333, 0.00266667, 0.00266667, 0.00533333,\n        0.00533333, 0.00133333, 0.006     , 0.00266667, 0.00733333,\n        0.00333333, 0.00133333, 0.00133333, 0.00533333, 0.00333333,\n        0.00733333, 0.        , 0.00133333, 0.00066667, 0.00133333,\n        0.004     , 0.00333333, 0.008     , 0.004     , 0.004     ,\n        0.00333333, 0.00466667, 0.        , 0.01066667, 0.002     ,\n        0.014     , 0.00733333, 0.00533333, 0.00533333, 0.00466667,\n        0.00733333, 0.00333333, 0.004     , 0.00266667, 0.01      ,\n        0.00533333, 0.00533333, 0.00666667, 0.00133333, 0.00266667,\n        0.00266667, 0.00933333, 0.008     , 0.00333333, 0.006     ,\n        0.00733333, 0.008     , 0.004     , 0.00066667, 0.00266667,\n        0.004     , 0.00333333, 0.00333333, 0.002     , 0.002     ,\n        0.00066667, 0.004     , 0.004     , 0.00333333, 0.00466667,\n        0.00533333, 0.00666667, 0.008     , 0.00266667, 0.004     ,\n        0.002     , 0.00466667, 0.008     , 0.004     , 0.01      ,\n        0.00133333, 0.002     , 0.006     , 0.004     , 0.00866667,\n        0.00133333, 0.00133333, 0.00266667, 0.002     , 0.00133333,\n        0.00133333, 0.00066667, 0.00333333, 0.00466667, 0.00133333,\n        0.004     , 0.00066667, 0.006     , 0.004     , 0.00733333,\n        0.00666667, 0.00866667, 0.00466667, 0.004     , 0.00666667,\n        0.004     , 0.00333333, 0.004     , 0.00666667, 0.00466667,\n        0.004     , 0.00733333, 0.00466667, 0.00133333, 0.004     ,\n        0.00733333, 0.006     , 0.00666667, 0.006     , 0.00333333,\n        0.00466667]),\n array([False, False, False, False, False, False, False, False, False,\n        False, False, False, False, False, False, False, False, False,\n        False, False, False, False, False, False, False, False, False,\n        False, False, False, False, False, False, False, False, False,\n        False, False, False, False, False, False, False, False, False,\n        False, False, False, False, False]))"
     },
     "execution_count": 7,
     "metadata": {},
     "output_type": "execute_result"
    }
   ],
   "source": [
    "def get_embeddings_with_status(sequences):\n",
    "    status = np.zeros(len(sequences), np.bool)\n",
    "    embeddings = []\n",
    "    for i, seq in enumerate(sequences):\n",
    "        if 'N' in seq:\n",
    "            continue\n",
    "        else:\n",
    "            embeddings.append(get_seq_embedding(seq))\n",
    "            status[i] = True\n",
    "    return embeddings, status\n",
    "\n",
    "embeddings, status = get_embeddings_with_status(splits)\n",
    "embeddings[0], status[:50]"
   ]
  },
  {
   "cell_type": "code",
   "execution_count": 17,
   "metadata": {},
   "outputs": [
    {
     "data": {
      "text/plain": "(array([0.59, 0.66, 0.69, 0.75, 0.68, 0.73, 0.65, 0.67, 0.78, 0.76, 0.72,\n        0.55, 0.77, 0.66, 0.7 , 0.69, 0.69, 0.83, 0.73, 0.8 , 0.83, 0.68,\n        0.64, 0.71, 0.74, 0.83, 0.46, 0.42, 0.47, 0.68, 0.75, 0.72, 0.75,\n        0.8 , 0.85, 0.83, 0.64, 0.63, 0.46, 0.5 , 0.64, 0.38, 0.62, 0.77,\n        0.77, 0.73, 0.72, 0.79, 0.68, 0.43]), 0.5906005060444194)"
     },
     "execution_count": 17,
     "metadata": {},
     "output_type": "execute_result"
    }
   ],
   "source": [
    "partial_predict = clf.predict_proba(embeddings)[:,1]\n",
    "avg = np.average(partial_predict)\n",
    "partial_predict[:50], avg"
   ]
  },
  {
   "cell_type": "code",
   "execution_count": 18,
   "metadata": {},
   "outputs": [
    {
     "data": {
      "text/plain": "array([0.59060051, 0.59060051, 0.59060051, 0.59060051, 0.59060051,\n       0.59060051, 0.59060051, 0.59060051, 0.59060051, 0.59060051,\n       0.59060051, 0.59060051, 0.59060051, 0.59060051, 0.59060051,\n       0.59060051, 0.59060051, 0.59060051, 0.59060051, 0.59060051,\n       0.59060051, 0.59060051, 0.59060051, 0.59060051, 0.59060051,\n       0.59060051, 0.59060051, 0.59060051, 0.59060051, 0.59060051,\n       0.59060051, 0.59060051, 0.59060051, 0.59060051, 0.59060051,\n       0.59060051, 0.59060051, 0.59060051, 0.59060051, 0.59060051,\n       0.59060051, 0.59060051, 0.59060051, 0.59060051, 0.59060051,\n       0.59060051, 0.59060051, 0.59060051, 0.59060051, 0.59060051,\n       0.59060051, 0.59060051, 0.59060051, 0.59060051, 0.59060051,\n       0.59060051, 0.59060051, 0.59060051, 0.59060051, 0.59060051,\n       0.59060051, 0.59060051, 0.59060051, 0.59060051, 0.59060051,\n       0.59060051, 0.59060051, 0.59060051, 0.59060051, 0.59060051,\n       0.59060051, 0.59060051, 0.59060051, 0.59060051, 0.59060051,\n       0.59060051, 0.59060051, 0.59060051, 0.59060051, 0.59060051,\n       0.59060051, 0.59060051, 0.59060051, 0.59060051, 0.59060051,\n       0.59060051, 0.59060051, 0.59060051, 0.59060051, 0.59060051,\n       0.59060051, 0.59060051, 0.59060051, 0.59060051, 0.59060051,\n       0.59060051, 0.59060051, 0.59060051, 0.59060051, 0.59060051])"
     },
     "execution_count": 18,
     "metadata": {},
     "output_type": "execute_result"
    }
   ],
   "source": [
    "def get_full_prediction(partial_predict, status, default_value):\n",
    "    full_prediction = np.empty(len(status))\n",
    "    full_prediction[status] = partial_predict\n",
    "    full_prediction[~status] = default_value\n",
    "    return full_prediction\n",
    "\n",
    "full_pred = get_full_prediction(partial_predict, status, avg)\n",
    "full_pred[:100]"
   ]
  },
  {
   "cell_type": "code",
   "execution_count": 19,
   "metadata": {},
   "outputs": [
    {
     "data": {
      "text/plain": "0.5906005060444194"
     },
     "execution_count": 19,
     "metadata": {},
     "output_type": "execute_result"
    }
   ],
   "source": [
    "np.average(full_pred)"
   ]
  },
  {
   "cell_type": "code",
   "execution_count": 20,
   "metadata": {},
   "outputs": [],
   "source": [
    "def save_data(data, chrN, step, window_size):\n",
    "    with open('output.wig', 'w+') as f:\n",
    "        f.write(f\"fixedStep chrom={chrN} start=0 step={step} span={window_size}\\n\")\n",
    "        for x in data:\n",
    "            f.write(f'{x}\\n')\n",
    "\n",
    "save_data(full_pred, 21, 750, 1500)"
   ]
  }
 ]
}